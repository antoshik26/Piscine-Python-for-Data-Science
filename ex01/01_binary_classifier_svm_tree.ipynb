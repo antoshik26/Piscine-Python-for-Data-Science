{
  "cells": [
    {
      "cell_type": "markdown",
      "metadata": {
        "id": "l_b8gwzPEHXu"
      },
      "source": [
        "# Day 08. Exercise 01\n",
        "# Binary classifier. SVM. Decision tree"
      ]
    },
    {
      "cell_type": "markdown",
      "metadata": {
        "id": "WzXDu5vSEHXy"
      },
      "source": [
        "## 0. Imports"
      ]
    },
    {
      "cell_type": "code",
      "execution_count": 114,
      "metadata": {
        "id": "pMxIVKYeEHXz"
      },
      "outputs": [],
      "source": [
        "import pandas as pd\n",
        "import sqlite3\n",
        "# from sklearn.ensemble import RandomForestClassifier\n",
        "import sklearn\n",
        "import numpy as np\n",
        "import matplotlib.pyplot as plt\n",
        "from sklearn.linear_model import LogisticRegression\n",
        "from sklearn.metrics import classification_report\n",
        "from sklearn.metrics import accuracy_score\n",
        "from sklearn.preprocessing import StandardScaler\n",
        "from sklearn.svm import SVC\n",
        "from sklearn.tree import DecisionTreeClassifier\n",
        "from sklearn.tree import export_graphviz\n",
        "from IPython.core.display import Image, display"
      ]
    },
    {
      "cell_type": "markdown",
      "metadata": {
        "id": "nXJAmyhdEHXz"
      },
      "source": [
        "## 1. Preprocessing and logreg visualization"
      ]
    },
    {
      "cell_type": "markdown",
      "metadata": {
        "id": "JEm3ueV3EHXz"
      },
      "source": [
        "Read the file `am_pm.csv` to a dataframe from the previous exercise."
      ]
    },
    {
      "cell_type": "markdown",
      "metadata": {
        "id": "xipRe8HvEHX0"
      },
      "source": [
        "1. Draw a plot where the x-axis is `am`, the y-axis is `pm`, dots are the days, color depends on the target.\n",
        "2. Add the decision boundary of logistic regression to the plot.\n",
        "3. Draw the same plot (with the boundary), but the color should depend this time on the predictions.\n",
        "\n",
        "Now it should be clear for you how the logistic regression works."
      ]
    },
    {
      "cell_type": "code",
      "execution_count": 62,
      "metadata": {
        "colab": {
          "base_uri": "https://localhost:8080/"
        },
        "id": "TCkW17fHEHX0",
        "outputId": "8e947b91-6b4a-4c06-d02b-d4ea1043c0cb"
      },
      "outputs": [
        {
          "output_type": "stream",
          "name": "stdout",
          "text": [
            "Drive already mounted at /content/drive; to attempt to forcibly remount, call drive.mount(\"/content/drive\", force_remount=True).\n"
          ]
        }
      ],
      "source": [
        "from google.colab import drive\n",
        "drive.mount('/content/drive')"
      ]
    },
    {
      "cell_type": "code",
      "execution_count": 63,
      "metadata": {
        "colab": {
          "base_uri": "https://localhost:8080/",
          "height": 1000
        },
        "id": "I2PIAiK4EHX1",
        "outputId": "afef2479-3059-40fd-8ee5-f74dd2bd113d"
      },
      "outputs": [
        {
          "output_type": "execute_result",
          "data": {
            "text/plain": [
              "          data   am   pm  target  predict\n",
              "0   2020-04-17   23    0       0        0\n",
              "1   2020-04-20    2   23       0        0\n",
              "2   2020-04-21    0   25       0        0\n",
              "3   2020-04-22    1   27       0        0\n",
              "4   2020-04-23   14   29       0        0\n",
              "5   2020-04-24    2   14       0        0\n",
              "6   2020-04-27    4    2       0        0\n",
              "7   2020-04-28    4    1       0        0\n",
              "8   2020-04-29    0   17       0        0\n",
              "9   2020-04-30   13   40       0        0\n",
              "10  2020-05-01    8   52       0        0\n",
              "11  2020-05-04   21   16       0        0\n",
              "12  2020-05-05  111   28       0        0\n",
              "13  2020-05-06    2    0       0        0\n",
              "14  2020-05-07   16   36       0        0\n",
              "15  2020-05-08    3   84       0        0\n",
              "16  2020-05-11    9  177       0        0\n",
              "17  2020-05-12   58  265       0        0\n",
              "18  2020-05-13   23  188       0        0\n",
              "19  2020-05-14   70  505       0        0\n",
              "20  2020-05-15   10    0       0        0\n",
              "21  2020-05-18    0    3       0        0\n",
              "22  2020-05-19   20   14       0        0\n",
              "23  2020-05-20    8   20       0        0\n",
              "24  2020-05-21    1   48       0        0\n",
              "25  2020-04-18    1   68       1        0\n",
              "26  2020-04-19   18   15       1        0\n",
              "27  2020-04-25   37   67       1        0\n",
              "28  2020-04-26   42  219       1        0\n",
              "29  2020-05-02  110  132       1        0\n",
              "30  2020-05-03   61  119       1        0\n",
              "31  2020-05-09    2   84       1        0\n",
              "32  2020-05-10   11  132       1        0\n",
              "33  2020-05-16    0    4       1        0\n",
              "34  2020-05-17    2   46       1        0"
            ],
            "text/html": [
              "\n",
              "  <div id=\"df-f382bea6-24e5-4d2d-8980-183370c29787\">\n",
              "    <div class=\"colab-df-container\">\n",
              "      <div>\n",
              "<style scoped>\n",
              "    .dataframe tbody tr th:only-of-type {\n",
              "        vertical-align: middle;\n",
              "    }\n",
              "\n",
              "    .dataframe tbody tr th {\n",
              "        vertical-align: top;\n",
              "    }\n",
              "\n",
              "    .dataframe thead th {\n",
              "        text-align: right;\n",
              "    }\n",
              "</style>\n",
              "<table border=\"1\" class=\"dataframe\">\n",
              "  <thead>\n",
              "    <tr style=\"text-align: right;\">\n",
              "      <th></th>\n",
              "      <th>data</th>\n",
              "      <th>am</th>\n",
              "      <th>pm</th>\n",
              "      <th>target</th>\n",
              "      <th>predict</th>\n",
              "    </tr>\n",
              "  </thead>\n",
              "  <tbody>\n",
              "    <tr>\n",
              "      <th>0</th>\n",
              "      <td>2020-04-17</td>\n",
              "      <td>23</td>\n",
              "      <td>0</td>\n",
              "      <td>0</td>\n",
              "      <td>0</td>\n",
              "    </tr>\n",
              "    <tr>\n",
              "      <th>1</th>\n",
              "      <td>2020-04-20</td>\n",
              "      <td>2</td>\n",
              "      <td>23</td>\n",
              "      <td>0</td>\n",
              "      <td>0</td>\n",
              "    </tr>\n",
              "    <tr>\n",
              "      <th>2</th>\n",
              "      <td>2020-04-21</td>\n",
              "      <td>0</td>\n",
              "      <td>25</td>\n",
              "      <td>0</td>\n",
              "      <td>0</td>\n",
              "    </tr>\n",
              "    <tr>\n",
              "      <th>3</th>\n",
              "      <td>2020-04-22</td>\n",
              "      <td>1</td>\n",
              "      <td>27</td>\n",
              "      <td>0</td>\n",
              "      <td>0</td>\n",
              "    </tr>\n",
              "    <tr>\n",
              "      <th>4</th>\n",
              "      <td>2020-04-23</td>\n",
              "      <td>14</td>\n",
              "      <td>29</td>\n",
              "      <td>0</td>\n",
              "      <td>0</td>\n",
              "    </tr>\n",
              "    <tr>\n",
              "      <th>5</th>\n",
              "      <td>2020-04-24</td>\n",
              "      <td>2</td>\n",
              "      <td>14</td>\n",
              "      <td>0</td>\n",
              "      <td>0</td>\n",
              "    </tr>\n",
              "    <tr>\n",
              "      <th>6</th>\n",
              "      <td>2020-04-27</td>\n",
              "      <td>4</td>\n",
              "      <td>2</td>\n",
              "      <td>0</td>\n",
              "      <td>0</td>\n",
              "    </tr>\n",
              "    <tr>\n",
              "      <th>7</th>\n",
              "      <td>2020-04-28</td>\n",
              "      <td>4</td>\n",
              "      <td>1</td>\n",
              "      <td>0</td>\n",
              "      <td>0</td>\n",
              "    </tr>\n",
              "    <tr>\n",
              "      <th>8</th>\n",
              "      <td>2020-04-29</td>\n",
              "      <td>0</td>\n",
              "      <td>17</td>\n",
              "      <td>0</td>\n",
              "      <td>0</td>\n",
              "    </tr>\n",
              "    <tr>\n",
              "      <th>9</th>\n",
              "      <td>2020-04-30</td>\n",
              "      <td>13</td>\n",
              "      <td>40</td>\n",
              "      <td>0</td>\n",
              "      <td>0</td>\n",
              "    </tr>\n",
              "    <tr>\n",
              "      <th>10</th>\n",
              "      <td>2020-05-01</td>\n",
              "      <td>8</td>\n",
              "      <td>52</td>\n",
              "      <td>0</td>\n",
              "      <td>0</td>\n",
              "    </tr>\n",
              "    <tr>\n",
              "      <th>11</th>\n",
              "      <td>2020-05-04</td>\n",
              "      <td>21</td>\n",
              "      <td>16</td>\n",
              "      <td>0</td>\n",
              "      <td>0</td>\n",
              "    </tr>\n",
              "    <tr>\n",
              "      <th>12</th>\n",
              "      <td>2020-05-05</td>\n",
              "      <td>111</td>\n",
              "      <td>28</td>\n",
              "      <td>0</td>\n",
              "      <td>0</td>\n",
              "    </tr>\n",
              "    <tr>\n",
              "      <th>13</th>\n",
              "      <td>2020-05-06</td>\n",
              "      <td>2</td>\n",
              "      <td>0</td>\n",
              "      <td>0</td>\n",
              "      <td>0</td>\n",
              "    </tr>\n",
              "    <tr>\n",
              "      <th>14</th>\n",
              "      <td>2020-05-07</td>\n",
              "      <td>16</td>\n",
              "      <td>36</td>\n",
              "      <td>0</td>\n",
              "      <td>0</td>\n",
              "    </tr>\n",
              "    <tr>\n",
              "      <th>15</th>\n",
              "      <td>2020-05-08</td>\n",
              "      <td>3</td>\n",
              "      <td>84</td>\n",
              "      <td>0</td>\n",
              "      <td>0</td>\n",
              "    </tr>\n",
              "    <tr>\n",
              "      <th>16</th>\n",
              "      <td>2020-05-11</td>\n",
              "      <td>9</td>\n",
              "      <td>177</td>\n",
              "      <td>0</td>\n",
              "      <td>0</td>\n",
              "    </tr>\n",
              "    <tr>\n",
              "      <th>17</th>\n",
              "      <td>2020-05-12</td>\n",
              "      <td>58</td>\n",
              "      <td>265</td>\n",
              "      <td>0</td>\n",
              "      <td>0</td>\n",
              "    </tr>\n",
              "    <tr>\n",
              "      <th>18</th>\n",
              "      <td>2020-05-13</td>\n",
              "      <td>23</td>\n",
              "      <td>188</td>\n",
              "      <td>0</td>\n",
              "      <td>0</td>\n",
              "    </tr>\n",
              "    <tr>\n",
              "      <th>19</th>\n",
              "      <td>2020-05-14</td>\n",
              "      <td>70</td>\n",
              "      <td>505</td>\n",
              "      <td>0</td>\n",
              "      <td>0</td>\n",
              "    </tr>\n",
              "    <tr>\n",
              "      <th>20</th>\n",
              "      <td>2020-05-15</td>\n",
              "      <td>10</td>\n",
              "      <td>0</td>\n",
              "      <td>0</td>\n",
              "      <td>0</td>\n",
              "    </tr>\n",
              "    <tr>\n",
              "      <th>21</th>\n",
              "      <td>2020-05-18</td>\n",
              "      <td>0</td>\n",
              "      <td>3</td>\n",
              "      <td>0</td>\n",
              "      <td>0</td>\n",
              "    </tr>\n",
              "    <tr>\n",
              "      <th>22</th>\n",
              "      <td>2020-05-19</td>\n",
              "      <td>20</td>\n",
              "      <td>14</td>\n",
              "      <td>0</td>\n",
              "      <td>0</td>\n",
              "    </tr>\n",
              "    <tr>\n",
              "      <th>23</th>\n",
              "      <td>2020-05-20</td>\n",
              "      <td>8</td>\n",
              "      <td>20</td>\n",
              "      <td>0</td>\n",
              "      <td>0</td>\n",
              "    </tr>\n",
              "    <tr>\n",
              "      <th>24</th>\n",
              "      <td>2020-05-21</td>\n",
              "      <td>1</td>\n",
              "      <td>48</td>\n",
              "      <td>0</td>\n",
              "      <td>0</td>\n",
              "    </tr>\n",
              "    <tr>\n",
              "      <th>25</th>\n",
              "      <td>2020-04-18</td>\n",
              "      <td>1</td>\n",
              "      <td>68</td>\n",
              "      <td>1</td>\n",
              "      <td>0</td>\n",
              "    </tr>\n",
              "    <tr>\n",
              "      <th>26</th>\n",
              "      <td>2020-04-19</td>\n",
              "      <td>18</td>\n",
              "      <td>15</td>\n",
              "      <td>1</td>\n",
              "      <td>0</td>\n",
              "    </tr>\n",
              "    <tr>\n",
              "      <th>27</th>\n",
              "      <td>2020-04-25</td>\n",
              "      <td>37</td>\n",
              "      <td>67</td>\n",
              "      <td>1</td>\n",
              "      <td>0</td>\n",
              "    </tr>\n",
              "    <tr>\n",
              "      <th>28</th>\n",
              "      <td>2020-04-26</td>\n",
              "      <td>42</td>\n",
              "      <td>219</td>\n",
              "      <td>1</td>\n",
              "      <td>0</td>\n",
              "    </tr>\n",
              "    <tr>\n",
              "      <th>29</th>\n",
              "      <td>2020-05-02</td>\n",
              "      <td>110</td>\n",
              "      <td>132</td>\n",
              "      <td>1</td>\n",
              "      <td>0</td>\n",
              "    </tr>\n",
              "    <tr>\n",
              "      <th>30</th>\n",
              "      <td>2020-05-03</td>\n",
              "      <td>61</td>\n",
              "      <td>119</td>\n",
              "      <td>1</td>\n",
              "      <td>0</td>\n",
              "    </tr>\n",
              "    <tr>\n",
              "      <th>31</th>\n",
              "      <td>2020-05-09</td>\n",
              "      <td>2</td>\n",
              "      <td>84</td>\n",
              "      <td>1</td>\n",
              "      <td>0</td>\n",
              "    </tr>\n",
              "    <tr>\n",
              "      <th>32</th>\n",
              "      <td>2020-05-10</td>\n",
              "      <td>11</td>\n",
              "      <td>132</td>\n",
              "      <td>1</td>\n",
              "      <td>0</td>\n",
              "    </tr>\n",
              "    <tr>\n",
              "      <th>33</th>\n",
              "      <td>2020-05-16</td>\n",
              "      <td>0</td>\n",
              "      <td>4</td>\n",
              "      <td>1</td>\n",
              "      <td>0</td>\n",
              "    </tr>\n",
              "    <tr>\n",
              "      <th>34</th>\n",
              "      <td>2020-05-17</td>\n",
              "      <td>2</td>\n",
              "      <td>46</td>\n",
              "      <td>1</td>\n",
              "      <td>0</td>\n",
              "    </tr>\n",
              "  </tbody>\n",
              "</table>\n",
              "</div>\n",
              "      <button class=\"colab-df-convert\" onclick=\"convertToInteractive('df-f382bea6-24e5-4d2d-8980-183370c29787')\"\n",
              "              title=\"Convert this dataframe to an interactive table.\"\n",
              "              style=\"display:none;\">\n",
              "        \n",
              "  <svg xmlns=\"http://www.w3.org/2000/svg\" height=\"24px\"viewBox=\"0 0 24 24\"\n",
              "       width=\"24px\">\n",
              "    <path d=\"M0 0h24v24H0V0z\" fill=\"none\"/>\n",
              "    <path d=\"M18.56 5.44l.94 2.06.94-2.06 2.06-.94-2.06-.94-.94-2.06-.94 2.06-2.06.94zm-11 1L8.5 8.5l.94-2.06 2.06-.94-2.06-.94L8.5 2.5l-.94 2.06-2.06.94zm10 10l.94 2.06.94-2.06 2.06-.94-2.06-.94-.94-2.06-.94 2.06-2.06.94z\"/><path d=\"M17.41 7.96l-1.37-1.37c-.4-.4-.92-.59-1.43-.59-.52 0-1.04.2-1.43.59L10.3 9.45l-7.72 7.72c-.78.78-.78 2.05 0 2.83L4 21.41c.39.39.9.59 1.41.59.51 0 1.02-.2 1.41-.59l7.78-7.78 2.81-2.81c.8-.78.8-2.07 0-2.86zM5.41 20L4 18.59l7.72-7.72 1.47 1.35L5.41 20z\"/>\n",
              "  </svg>\n",
              "      </button>\n",
              "      \n",
              "  <style>\n",
              "    .colab-df-container {\n",
              "      display:flex;\n",
              "      flex-wrap:wrap;\n",
              "      gap: 12px;\n",
              "    }\n",
              "\n",
              "    .colab-df-convert {\n",
              "      background-color: #E8F0FE;\n",
              "      border: none;\n",
              "      border-radius: 50%;\n",
              "      cursor: pointer;\n",
              "      display: none;\n",
              "      fill: #1967D2;\n",
              "      height: 32px;\n",
              "      padding: 0 0 0 0;\n",
              "      width: 32px;\n",
              "    }\n",
              "\n",
              "    .colab-df-convert:hover {\n",
              "      background-color: #E2EBFA;\n",
              "      box-shadow: 0px 1px 2px rgba(60, 64, 67, 0.3), 0px 1px 3px 1px rgba(60, 64, 67, 0.15);\n",
              "      fill: #174EA6;\n",
              "    }\n",
              "\n",
              "    [theme=dark] .colab-df-convert {\n",
              "      background-color: #3B4455;\n",
              "      fill: #D2E3FC;\n",
              "    }\n",
              "\n",
              "    [theme=dark] .colab-df-convert:hover {\n",
              "      background-color: #434B5C;\n",
              "      box-shadow: 0px 1px 3px 1px rgba(0, 0, 0, 0.15);\n",
              "      filter: drop-shadow(0px 1px 2px rgba(0, 0, 0, 0.3));\n",
              "      fill: #FFFFFF;\n",
              "    }\n",
              "  </style>\n",
              "\n",
              "      <script>\n",
              "        const buttonEl =\n",
              "          document.querySelector('#df-f382bea6-24e5-4d2d-8980-183370c29787 button.colab-df-convert');\n",
              "        buttonEl.style.display =\n",
              "          google.colab.kernel.accessAllowed ? 'block' : 'none';\n",
              "\n",
              "        async function convertToInteractive(key) {\n",
              "          const element = document.querySelector('#df-f382bea6-24e5-4d2d-8980-183370c29787');\n",
              "          const dataTable =\n",
              "            await google.colab.kernel.invokeFunction('convertToInteractive',\n",
              "                                                     [key], {});\n",
              "          if (!dataTable) return;\n",
              "\n",
              "          const docLinkHtml = 'Like what you see? Visit the ' +\n",
              "            '<a target=\"_blank\" href=https://colab.research.google.com/notebooks/data_table.ipynb>data table notebook</a>'\n",
              "            + ' to learn more about interactive tables.';\n",
              "          element.innerHTML = '';\n",
              "          dataTable['output_type'] = 'display_data';\n",
              "          await google.colab.output.renderOutput(dataTable, element);\n",
              "          const docLink = document.createElement('div');\n",
              "          docLink.innerHTML = docLinkHtml;\n",
              "          element.appendChild(docLink);\n",
              "        }\n",
              "      </script>\n",
              "    </div>\n",
              "  </div>\n",
              "  "
            ]
          },
          "metadata": {},
          "execution_count": 63
        }
      ],
      "source": [
        "df = pd.read_csv('/content/drive/MyDrive/ex08_42/am_pm.csv')\n",
        "df"
      ]
    },
    {
      "cell_type": "code",
      "execution_count": 109,
      "metadata": {
        "colab": {
          "base_uri": "https://localhost:8080/"
        },
        "id": "4oxFzwVdEHX1",
        "outputId": "774d405b-0bcd-44aa-aa09-454ccfc29df1"
      },
      "outputs": [
        {
          "output_type": "execute_result",
          "data": {
            "text/plain": [
              "Index(['am', 'pm'], dtype='object')"
            ]
          },
          "metadata": {},
          "execution_count": 109
        }
      ],
      "source": [
        "X = df.drop('target', axis = 1)\n",
        "X = X.drop('data', axis = 1)\n",
        "X = X.drop('predict', axis = 1)\n",
        "X"
      ]
    },
    {
      "cell_type": "code",
      "execution_count": 65,
      "metadata": {
        "colab": {
          "base_uri": "https://localhost:8080/"
        },
        "id": "Wf0jURPbEHX1",
        "outputId": "a165d1d8-d340-47f8-df71-4d4e891e0285"
      },
      "outputs": [
        {
          "output_type": "execute_result",
          "data": {
            "text/plain": [
              "array([0, 0, 0, 0, 0, 0, 0, 0, 0, 0, 0, 0, 0, 0, 0, 0, 0, 0, 0, 0, 0, 0,\n",
              "       0, 0, 0, 1, 1, 1, 1, 1, 1, 1, 1, 1, 1])"
            ]
          },
          "metadata": {},
          "execution_count": 65
        }
      ],
      "source": [
        "y = np.where(df['target'] == 0, 0, 1)\n",
        "y"
      ]
    },
    {
      "cell_type": "code",
      "execution_count": 66,
      "metadata": {
        "id": "kq3UwDH6EHX2"
      },
      "outputs": [],
      "source": [
        "clf = LogisticRegression(random_state=21, fit_intercept=False)"
      ]
    },
    {
      "cell_type": "code",
      "execution_count": 67,
      "metadata": {
        "colab": {
          "base_uri": "https://localhost:8080/"
        },
        "id": "9XHoduyLEHX2",
        "outputId": "75303f2c-90d6-4c86-c3ac-2c05c591b203"
      },
      "outputs": [
        {
          "output_type": "execute_result",
          "data": {
            "text/plain": [
              "LogisticRegression(fit_intercept=False, random_state=21)"
            ]
          },
          "metadata": {},
          "execution_count": 67
        }
      ],
      "source": [
        "clf.fit(X, y)"
      ]
    },
    {
      "cell_type": "code",
      "execution_count": 68,
      "metadata": {
        "colab": {
          "base_uri": "https://localhost:8080/"
        },
        "id": "N5kHCm2vEHX2",
        "outputId": "7bfb7163-320b-4921-af03-5a994558cba2"
      },
      "outputs": [
        {
          "output_type": "execute_result",
          "data": {
            "text/plain": [
              "array([0, 0, 0, 0, 0, 0, 0, 0, 0, 0, 0, 0, 0, 0, 0, 0, 0, 0, 0, 0, 0, 0,\n",
              "       0, 0, 0, 0, 0, 0, 0, 0, 0, 0, 0, 0, 0])"
            ]
          },
          "metadata": {},
          "execution_count": 68
        }
      ],
      "source": [
        "y_pred = clf.predict(X)\n",
        "y_pred"
      ]
    },
    {
      "cell_type": "code",
      "execution_count": 69,
      "metadata": {
        "id": "Ydsty_T0EHX2"
      },
      "outputs": [],
      "source": [
        "plot_x = np.array([min(df['am']) - 2, max(df['am']) + 2])\n",
        "plot_y = (-1 / clf.coef_[0][1]) * clf.coef_[0][0] * plot_x"
      ]
    },
    {
      "cell_type": "code",
      "execution_count": 70,
      "metadata": {
        "colab": {
          "base_uri": "https://localhost:8080/",
          "height": 517
        },
        "id": "3p-hLXZSEHX3",
        "outputId": "b47ebc3c-76b8-4c71-b232-d6f5649a2f98"
      },
      "outputs": [
        {
          "output_type": "display_data",
          "data": {
            "text/plain": [
              "<Figure size 1080x576 with 1 Axes>"
            ],
            "image/png": "[encoded data removed]"
          },
          "metadata": {
            "needs_background": "light"
          }
        }
      ],
      "source": [
        "fig, ax = plt.subplots(figsize=(15, 8))\n",
        "ax.scatter(x=df.loc[df['target'] == 1]['am'],\n",
        "           y=df.loc[df['target'] == 1]['pm'],\n",
        "           color='green', label='working_day')\n",
        "ax.scatter(x=df.loc[df['target'] == 0]['am'],\n",
        "           y=df.loc[df['target'] == 0]['pm'],\n",
        "           color='red', label='weekend')\n",
        "ax.plot(plot_x, plot_y, label='decision boundary')\n",
        "ax.set_title('Logistic regression', fontsize='x-large')\n",
        "ax.set_xlabel('am', fontsize='large')\n",
        "ax.set_ylabel('pm', fontsize='large')\n",
        "ax.legend(loc='upper left', fontsize='large')\n",
        "plt.show()"
      ]
    },
    {
      "cell_type": "code",
      "execution_count": 40,
      "metadata": {
        "id": "6ejc--y7EHX3"
      },
      "outputs": [],
      "source": [
        ""
      ]
    },
    {
      "cell_type": "code",
      "execution_count": null,
      "metadata": {
        "id": "ePh1zp2BEHX3"
      },
      "outputs": [],
      "source": [
        ""
      ]
    },
    {
      "cell_type": "code",
      "execution_count": null,
      "metadata": {
        "id": "X0YyEkrAEHX3"
      },
      "outputs": [],
      "source": [
        ""
      ]
    },
    {
      "cell_type": "markdown",
      "metadata": {
        "id": "l-7yv_8EEHX3"
      },
      "source": [
        "## 2. Standardizing and logreg"
      ]
    },
    {
      "cell_type": "markdown",
      "metadata": {
        "id": "Yb0YIeq0EHX4"
      },
      "source": [
        "Linear models can be sensitive to the scale of your variables. You make it easier for them to find the optimal solution when you scale your features.\n",
        "\n",
        "1. Apply `StandardScaler` to `X` and train logistic regression again with the same parameters.\n",
        "2. Calculate `accuracy` for the new model. Did it get better than a naive classifier with the most popular class?\n",
        "3. Draw the plots that were described above but for the new model."
      ]
    },
    {
      "cell_type": "code",
      "execution_count": 71,
      "metadata": {
        "id": "mYu3oNYzEHX4"
      },
      "outputs": [],
      "source": [
        "scaler = StandardScaler()\n"
      ]
    },
    {
      "cell_type": "code",
      "execution_count": 72,
      "metadata": {
        "colab": {
          "base_uri": "https://localhost:8080/"
        },
        "id": "NQyGfKh0EHX4",
        "outputId": "c0105db7-233e-40ec-bf7c-b417c811b1b8"
      },
      "outputs": [
        {
          "output_type": "stream",
          "name": "stdout",
          "text": [
            "StandardScaler()\n"
          ]
        }
      ],
      "source": [
        "print(scaler.fit(X))"
      ]
    },
    {
      "cell_type": "code",
      "execution_count": 73,
      "metadata": {
        "colab": {
          "base_uri": "https://localhost:8080/"
        },
        "id": "lmswp63jEHX4",
        "outputId": "a5b2c5ec-6301-447d-fe3b-be5cb7b43738"
      },
      "outputs": [
        {
          "output_type": "execute_result",
          "data": {
            "text/plain": [
              "array([[ 0.09795857, -0.71565026],\n",
              "       [-0.63673072, -0.48521087],\n",
              "       [-0.70670113, -0.46517267],\n",
              "       [-0.67171592, -0.44513446],\n",
              "       [-0.21690827, -0.42509625],\n",
              "       [-0.63673072, -0.57538281],\n",
              "       [-0.56676031, -0.69561205],\n",
              "       [-0.56676031, -0.70563115],\n",
              "       [-0.70670113, -0.54532549],\n",
              "       [-0.25189347, -0.31488611],\n",
              "       [-0.42681949, -0.19465687],\n",
              "       [ 0.02798816, -0.5553446 ],\n",
              "       [ 3.17665656, -0.43511536],\n",
              "       [-0.63673072, -0.71565026],\n",
              "       [-0.14693786, -0.35496253],\n",
              "       [-0.60174552,  0.12595445],\n",
              "       [-0.39183429,  1.05773108],\n",
              "       [ 1.32244073,  1.93941219],\n",
              "       [ 0.09795857,  1.16794122],\n",
              "       [ 1.74226318,  4.34399705],\n",
              "       [-0.35684908, -0.71565026],\n",
              "       [-0.70670113, -0.68559295],\n",
              "       [-0.00699704, -0.57538281],\n",
              "       [-0.42681949, -0.51526818],\n",
              "       [-0.67171592, -0.23473328],\n",
              "       [-0.67171592, -0.03435121],\n",
              "       [-0.07696745, -0.5653637 ],\n",
              "       [ 0.58775143, -0.04437032],\n",
              "       [ 0.76267746,  1.47853343],\n",
              "       [ 3.14167135,  0.60687142],\n",
              "       [ 1.42739634,  0.47662307],\n",
              "       [-0.63673072,  0.12595445],\n",
              "       [-0.32186388,  0.60687142],\n",
              "       [-0.70670113, -0.67557384],\n",
              "       [-0.63673072, -0.25477149]])"
            ]
          },
          "metadata": {},
          "execution_count": 73
        }
      ],
      "source": [
        "X = (scaler.transform(X))\n",
        "X"
      ]
    },
    {
      "cell_type": "code",
      "execution_count": 74,
      "metadata": {
        "colab": {
          "base_uri": "https://localhost:8080/"
        },
        "id": "0uoEX6tZEHX5",
        "outputId": "d34746d8-fda0-4ce5-a183-0ce67dbe8de0"
      },
      "outputs": [
        {
          "output_type": "execute_result",
          "data": {
            "text/plain": [
              "array([0, 0, 0, 0, 0, 0, 0, 0, 0, 0, 0, 0, 0, 0, 0, 0, 0, 0, 0, 0, 0, 0,\n",
              "       0, 0, 0, 1, 1, 1, 1, 1, 1, 1, 1, 1, 1])"
            ]
          },
          "metadata": {},
          "execution_count": 74
        }
      ],
      "source": [
        "y = np.where(df['target'] == 0, 0, 1)\n",
        "y"
      ]
    },
    {
      "cell_type": "code",
      "execution_count": 75,
      "metadata": {
        "id": "uJ8tGuMMEHX5"
      },
      "outputs": [],
      "source": [
        "clf = LogisticRegression(random_state=21, fit_intercept=False)"
      ]
    },
    {
      "cell_type": "code",
      "execution_count": 76,
      "metadata": {
        "colab": {
          "base_uri": "https://localhost:8080/"
        },
        "id": "JhGb85sYEHX5",
        "outputId": "ba95a158-4c48-4512-80f7-65452699e9aa"
      },
      "outputs": [
        {
          "output_type": "execute_result",
          "data": {
            "text/plain": [
              "LogisticRegression(fit_intercept=False, random_state=21)"
            ]
          },
          "metadata": {},
          "execution_count": 76
        }
      ],
      "source": [
        "clf.fit(X, y)"
      ]
    },
    {
      "cell_type": "code",
      "execution_count": 77,
      "metadata": {
        "colab": {
          "base_uri": "https://localhost:8080/"
        },
        "id": "mxeFciztEHX5",
        "outputId": "084b4c2a-3c7a-498e-ab9b-a78f6afaf8c0"
      },
      "outputs": [
        {
          "output_type": "execute_result",
          "data": {
            "text/plain": [
              "array([0, 0, 0, 0, 0, 0, 0, 0, 0, 0, 0, 0, 1, 0, 0, 0, 0, 1, 1, 1, 0, 0,\n",
              "       0, 0, 0, 0, 0, 1, 1, 1, 1, 0, 0, 0, 0])"
            ]
          },
          "metadata": {},
          "execution_count": 77
        }
      ],
      "source": [
        "y_pred = clf.predict(X)\n",
        "y_pred"
      ]
    },
    {
      "cell_type": "code",
      "execution_count": 78,
      "metadata": {
        "colab": {
          "base_uri": "https://localhost:8080/"
        },
        "id": "MGHjtgbrEHX5",
        "outputId": "8a6b85a5-7bbe-48c2-e9d5-194b13c92e10"
      },
      "outputs": [
        {
          "output_type": "execute_result",
          "data": {
            "text/plain": [
              "0.7142857142857143"
            ]
          },
          "metadata": {},
          "execution_count": 78
        }
      ],
      "source": [
        "accuracy_score(y_pred, y)"
      ]
    },
    {
      "cell_type": "code",
      "execution_count": 79,
      "metadata": {
        "id": "L_DRJ7LkEHX5"
      },
      "outputs": [],
      "source": [
        "y_pred_naive = np.array([np.argmax(np.bincount(y))] * len(y))"
      ]
    },
    {
      "cell_type": "code",
      "execution_count": 80,
      "metadata": {
        "colab": {
          "base_uri": "https://localhost:8080/"
        },
        "id": "Ta7ofRBVEHX5",
        "outputId": "240381bf-3c02-4139-ad82-f1c4095f210f"
      },
      "outputs": [
        {
          "output_type": "execute_result",
          "data": {
            "text/plain": [
              "0.7142857142857143"
            ]
          },
          "metadata": {},
          "execution_count": 80
        }
      ],
      "source": [
        "accuracy_score(y, y_pred_naive)"
      ]
    },
    {
      "cell_type": "markdown",
      "metadata": {
        "id": "E9EQBsIWEHX5"
      },
      "source": [
        "## 3. SVM"
      ]
    },
    {
      "cell_type": "markdown",
      "metadata": {
        "id": "tPz1FIPwEHX6"
      },
      "source": [
        "1. Apply `SVC` model to the scaled dataframe using parameters `probability=True`, `random_state=21`.\n",
        "2. Calculate `accuracy`.\n",
        "3. Try different kernels, find the best in terms of accuracy.\n",
        "4. Draw both plots again with the decisions boundary to see how this algorithm works."
      ]
    },
    {
      "cell_type": "code",
      "execution_count": 86,
      "metadata": {
        "id": "D38jPNaFEHX6"
      },
      "outputs": [],
      "source": [
        "clf = SVC(probability=True, random_state=21)"
      ]
    },
    {
      "cell_type": "code",
      "execution_count": 87,
      "metadata": {
        "colab": {
          "base_uri": "https://localhost:8080/"
        },
        "id": "xgvfIlMoEHX6",
        "outputId": "80827fa7-e200-4455-c0e7-a9297b5ab397"
      },
      "outputs": [
        {
          "output_type": "execute_result",
          "data": {
            "text/plain": [
              "SVC(probability=True, random_state=21)"
            ]
          },
          "metadata": {},
          "execution_count": 87
        }
      ],
      "source": [
        "clf.fit(X, y)\n"
      ]
    },
    {
      "cell_type": "code",
      "execution_count": 88,
      "metadata": {
        "colab": {
          "base_uri": "https://localhost:8080/"
        },
        "id": "mkorz14fEHX6",
        "outputId": "a85e7b0e-ba48-45f8-d33b-49244de7dbfd"
      },
      "outputs": [
        {
          "output_type": "execute_result",
          "data": {
            "text/plain": [
              "array([0, 0, 0, 0, 0, 0, 0, 0, 0, 0, 0, 0, 0, 0, 0, 0, 0, 0, 0, 0, 0, 0,\n",
              "       0, 0, 0, 0, 0, 0, 0, 0, 1, 0, 0, 0, 0])"
            ]
          },
          "metadata": {},
          "execution_count": 88
        }
      ],
      "source": [
        "y_pred = clf.predict(X)\n",
        "y_pred"
      ]
    },
    {
      "cell_type": "code",
      "execution_count": 89,
      "metadata": {
        "colab": {
          "base_uri": "https://localhost:8080/"
        },
        "id": "6kUS6X5eEHX6",
        "outputId": "39412ad9-9c08-4122-95e6-d8c01660460c"
      },
      "outputs": [
        {
          "output_type": "execute_result",
          "data": {
            "text/plain": [
              "0.7428571428571429"
            ]
          },
          "metadata": {},
          "execution_count": 89
        }
      ],
      "source": [
        "accuracy_score(y_pred, y)"
      ]
    },
    {
      "cell_type": "code",
      "execution_count": null,
      "metadata": {
        "id": "lQhwgwiDEHX7"
      },
      "outputs": [],
      "source": [
        "plot_x = np.array([min(df['am']) - 2, max(df['am']) + 2])\n",
        "plot_y = (-1 / clf.coef_[0][1]) * clf.coef_[0][0] * plot_x"
      ]
    },
    {
      "cell_type": "code",
      "execution_count": 93,
      "metadata": {
        "colab": {
          "base_uri": "https://localhost:8080/",
          "height": 517
        },
        "id": "qLgM_vnwEHX7",
        "outputId": "871c4df0-f88b-42e5-d048-f427d8163998"
      },
      "outputs": [
        {
          "output_type": "display_data",
          "data": {
            "text/plain": [
              "<Figure size 1080x576 with 1 Axes>"
            ],
            "image/png": "[encoded data removed]"
          },
          "metadata": {
            "needs_background": "light"
          }
        }
      ],
      "source": [
        "fig, ax = plt.subplots(figsize=(15, 8))\n",
        "ax.scatter(x=df.loc[df['target'] == 1]['am'],\n",
        "           y=df.loc[df['target'] == 1]['pm'],\n",
        "           color='green', label='working_day')\n",
        "ax.scatter(x=df.loc[df['target'] == 0]['am'],\n",
        "           y=df.loc[df['target'] == 0]['pm'],\n",
        "           color='red', label='weekend')\n",
        "ax.plot(plot_x, plot_y, label='decision boundary')\n",
        "ax.set_title('Logistic regression', fontsize='x-large')\n",
        "ax.set_xlabel('am', fontsize='large')\n",
        "ax.set_ylabel('pm', fontsize='large')\n",
        "ax.legend(loc='upper left', fontsize='large')\n",
        "plt.show()"
      ]
    },
    {
      "cell_type": "code",
      "execution_count": null,
      "metadata": {
        "id": "N5pC6UVJEHX7"
      },
      "outputs": [],
      "source": [
        ""
      ]
    },
    {
      "cell_type": "code",
      "execution_count": null,
      "metadata": {
        "id": "QgvnMlglEHX7"
      },
      "outputs": [],
      "source": [
        ""
      ]
    },
    {
      "cell_type": "markdown",
      "metadata": {
        "id": "88Ms04bHEHX7"
      },
      "source": [
        "## 4. Decision tree"
      ]
    },
    {
      "cell_type": "markdown",
      "metadata": {
        "id": "EVMxR7t5EHX7"
      },
      "source": [
        "1. Apply `DecisionTreeClassifier` to the scaled dataframe using parameters `max_depth=4`, `random_state=42`.\n",
        "2. Calculate accuracy.\n",
        "3. Try different values of `max_depth`.\n",
        "4. Draw both plots again with the decisions boundary to see how this algorithm works.\n",
        "5. Using method `.plot_tree()` visualize the decision tree itself. It is another way of thinking about how the algorithm works.\n",
        "6. How many leaves in the visualized tree label days as working days? Put your answer in the markdown cell in the end of the section."
      ]
    },
    {
      "cell_type": "code",
      "execution_count": 95,
      "metadata": {
        "id": "RW9La-zxEHX8"
      },
      "outputs": [],
      "source": [
        "clf = DecisionTreeClassifier(max_depth=4, random_state=42)"
      ]
    },
    {
      "cell_type": "code",
      "execution_count": 96,
      "metadata": {
        "colab": {
          "base_uri": "https://localhost:8080/"
        },
        "id": "AhSIFjitEHX8",
        "outputId": "88c8f405-4c3f-4828-8779-1373fefef54a"
      },
      "outputs": [
        {
          "output_type": "execute_result",
          "data": {
            "text/plain": [
              "DecisionTreeClassifier(max_depth=4, random_state=42)"
            ]
          },
          "metadata": {},
          "execution_count": 96
        }
      ],
      "source": [
        "clf.fit(X, y)"
      ]
    },
    {
      "cell_type": "code",
      "execution_count": 98,
      "metadata": {
        "colab": {
          "base_uri": "https://localhost:8080/"
        },
        "id": "ptj45fkpEHX8",
        "outputId": "ae500644-2d6d-48a6-9541-f9380c82e886"
      },
      "outputs": [
        {
          "output_type": "execute_result",
          "data": {
            "text/plain": [
              "array([0, 0, 0, 0, 0, 0, 0, 0, 0, 0, 0, 0, 0, 0, 0, 0, 0, 0, 0, 0, 0, 0,\n",
              "       0, 0, 0, 1, 1, 1, 1, 1, 1, 1, 1, 0, 1])"
            ]
          },
          "metadata": {},
          "execution_count": 98
        }
      ],
      "source": [
        "y_pred = clf.predict(X)\n",
        "y_pred"
      ]
    },
    {
      "cell_type": "code",
      "execution_count": 99,
      "metadata": {
        "colab": {
          "base_uri": "https://localhost:8080/"
        },
        "id": "6QK2kp6IEHX8",
        "outputId": "a7dddff8-203d-414a-e1af-49335469ec3c"
      },
      "outputs": [
        {
          "output_type": "execute_result",
          "data": {
            "text/plain": [
              "0.9714285714285714"
            ]
          },
          "metadata": {},
          "execution_count": 99
        }
      ],
      "source": [
        "accuracy_score(y_pred, y)"
      ]
    },
    {
      "cell_type": "code",
      "execution_count": 115,
      "metadata": {
        "colab": {
          "base_uri": "https://localhost:8080/",
          "height": 653
        },
        "id": "X8ZBPaOSEHX8",
        "outputId": "1eec77e6-4787-4f5d-c953-525f82e1986b"
      },
      "outputs": [
        {
          "output_type": "display_data",
          "data": {
            "text/plain": [
              "<IPython.core.display.Image object>"
            ],
            "image/png": "[encoded data removed]"
          },
          "metadata": {
            "image/png": {
              "unconfined": true
            }
          }
        }
      ],
      "source": [
        "export_graphviz(clf, feature_names=['am', 'pm'] , out_file='tree.dot', filled=True)\n",
        "!dot -Tpng 'tree.dot' -o 'tree.png'\n",
        "display(Image('tree.png', unconfined=True))"
      ]
    },
    {
      "cell_type": "markdown",
      "metadata": {
        "id": "vHN9NGgcEHX8"
      },
      "source": [
        "6"
      ]
    }
  ],
  "metadata": {
    "kernelspec": {
      "display_name": "Python 3",
      "language": "python",
      "name": "python3"
    },
    "language_info": {
      "codemirror_mode": {
        "name": "ipython",
        "version": 3
      },
      "file_extension": ".py",
      "mimetype": "text/x-python",
      "name": "python",
      "nbconvert_exporter": "python",
      "pygments_lexer": "ipython3",
      "version": "3.7.7"
    },
    "colab": {
      "name": "01_binary_classifier_svm_tree.ipynb",
      "provenance": []
    }
  },
  "nbformat": 4,
  "nbformat_minor": 0
}